{
 "cells": [
  {
   "cell_type": "code",
   "execution_count": null,
   "metadata": {
    "kernel": "SoS"
   },
   "outputs": [],
   "source": [
    "import re\n",
    "\n",
    "def RegionGFF_input(highest_muts):\n",
    "    regions_dict = {}\n",
    "    for x in highest_muts.Chromosome:\n",
    "        regions_dict[x] = []\n",
    "    for reg,chrom in zip(highest_muts.Regions, highest_muts.Chromosome): \n",
    "        new = str(reg)\n",
    "        no_char = new.rstrip(']').lstrip('(')\n",
    "        mylist = no_char.split(',')\n",
    "        rounded_nums = []\n",
    "        for nums in mylist:\n",
    "            num = round(float(nums))\n",
    "            rounded_nums.append(num)\n",
    "        for k,v in regions_dict.items():\n",
    "            if chrom == k:\n",
    "                v.append(rounded_nums)\n",
    "    return(regions_dict)\n",
    "\n",
    "GFF_dict = RegionGFF_input(highest_muts)\n",
    "print(GFF_dict)"
   ]
  },
  {
   "cell_type": "code",
   "execution_count": null,
   "metadata": {
    "kernel": "SoS"
   },
   "outputs": [],
   "source": [
    "def getVariantCount(variants, all_gene_data):\n",
    "\n",
    "    group_pos = variants.groupby('Chromosome')\n",
    "\n",
    "    grouped_ss = all_genes_data.groupby('Chromosome')\n",
    "\n",
    "    gene_locs = {}\n",
    "\n",
    "    for chrom, pos in group_pos:\n",
    "        for ch, region in grouped_ss:\n",
    "            if chrom == ch:\n",
    "                positions = pos['Position'].to_list()\n",
    "                for posi in positions:\n",
    "                    for row in region.itertuples():\n",
    "                        if posi >= row.Start_Pos and posi <= row.Stop_Pos:\n",
    "                            if row.Index in gene_locs:\n",
    "                                gene_locs[row.Index].append(posi)\n",
    "                            else:\n",
    "                                gene_locs[row.Index] = [posi]"
   ]
  }
 ],
 "metadata": {
  "kernelspec": {
   "display_name": "SoS",
   "language": "sos",
   "name": "sos"
  },
  "language_info": {
   "codemirror_mode": "sos",
   "file_extension": ".sos",
   "mimetype": "text/x-sos",
   "name": "sos",
   "nbconvert_exporter": "sos_notebook.converter.SoS_Exporter",
   "pygments_lexer": "sos"
  },
  "sos": {
   "kernels": [],
   "panel": {
    "displayed": true,
    "height": 0
   },
   "version": "0.21.7"
  }
 },
 "nbformat": 4,
 "nbformat_minor": 2
}
