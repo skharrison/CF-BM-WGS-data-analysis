{
 "cells": [
  {
   "cell_type": "markdown",
   "metadata": {
    "kernel": "SoS"
   },
   "source": [
    "bedtools getfasta [OPTIONS] -fi <input FASTA> -bed <BED/GFF/VCF>"
   ]
  },
  {
   "cell_type": "code",
   "execution_count": 62,
   "metadata": {
    "kernel": "Bash"
   },
   "outputs": [
    {
     "name": "stdout",
     "output_type": "stream",
     "text": [
      "index file GCF_003019965.1_ASM301996v1_genomic.fna.fai not found, generating...\r\n",
      "libc++abi.dylib: terminating with uncaught exception of type std::out_of_range: vector\r\n",
      "Abort trap: 6\r\n",
      "\n"
     ]
    }
   ],
   "source": [
    "bedtools getfasta -fo fasta_gff.fasta -fi GCF_003019965.1_ASM301996v1_genomic.fna -bed GCF_003019965.1_ASM301996v1_genomic.gff"
   ]
  },
  {
   "cell_type": "code",
   "execution_count": 67,
   "metadata": {
    "kernel": "Bash"
   },
   "outputs": [
    {
     "name": "stdout",
     "output_type": "stream",
     "text": [
      "\n"
     ]
    }
   ],
   "source": [
    "mv GCF_003019965.1_ASM301996v1_genomic.fna r246.fasta"
   ]
  },
  {
   "cell_type": "code",
   "execution_count": 68,
   "metadata": {
    "kernel": "Bash"
   },
   "outputs": [
    {
     "name": "stdout",
     "output_type": "stream",
     "text": [
      "GCF_003019965.1_ASM301996v1_genomic.gbk r246.fasta\r\n",
      "fasta_gff.fasta                         r246.gff\r\n",
      "\u001b[34mmuscle_test\u001b[m\u001b[m\r\n",
      "\n"
     ]
    }
   ],
   "source": [
    "ls"
   ]
  },
  {
   "cell_type": "code",
   "execution_count": 61,
   "metadata": {
    "kernel": "Bash"
   },
   "outputs": [
    {
     "name": "stdout",
     "output_type": "stream",
     "text": [
      "Requirement already satisfied: amas in /Users/sarahharrison/opt/anaconda3/lib/python3.7/site-packages (0.98)\r\n",
      "\n"
     ]
    }
   ],
   "source": [
    "pip install amas"
   ]
  },
  {
   "cell_type": "code",
   "execution_count": 2,
   "metadata": {
    "kernel": "Python3"
   },
   "outputs": [],
   "source": [
    "from Bio import SeqIO\n",
    "import os \n",
    "from amas import AMAS"
   ]
  },
  {
   "cell_type": "code",
   "execution_count": 34,
   "metadata": {
    "kernel": "Python3"
   },
   "outputs": [
    {
     "name": "stdout",
     "output_type": "stream",
     "text": [
      "{'gene1': [], 'gene2': [], 'gene3': [], 'gene4': [], 'gene5': [], 'gene6': [], 'gene7': []}\n"
     ]
    }
   ],
   "source": [
    "\n",
    "all_genes = {}\n",
    "#creates list of all genes \n",
    "for file in os.listdir(\"/Users/sarahharrison/Documents/GitHub/CF-BM-WGS-data-analysis/reference_data/muscle_test\"):\n",
    "    if file.endswith(\".fasta\") == True:\n",
    "        for seq_record in SeqIO.parse(file, \"fasta\"):\n",
    "            gene_name = seq_record.id.split('_')[0]\n",
    "            if gene_name not in all_genes:\n",
    "                all_genes[gene_name] = []\n",
    "                \n",
    "print(all_genes)   "
   ]
  },
  {
   "cell_type": "code",
   "execution_count": 35,
   "metadata": {
    "kernel": "Python3"
   },
   "outputs": [
    {
     "name": "stdout",
     "output_type": "stream",
     "text": [
      "{'gene1': [SeqRecord(seq=Seq('ATGCGCAAGTCAATCAAGTCGCGCGAGCGATTGCAGTTCGCGCTCAAGCCGAGT...TGA', SingleLetterAlphabet()), id='gene1_224', name='gene1_224', description='gene1_224', dbxrefs=[]), SeqRecord(seq=Seq('ATGCGCAAGTCAATCAAGTCGCGCGAGCGATTGCAGTTCGCGCTCAAGCCGAGT...TGA', SingleLetterAlphabet()), id='gene1_228', name='gene1_228', description='gene1_228', dbxrefs=[]), SeqRecord(seq=Seq('ATGCGCAAGTCAATCAAGTCGCGCGAGCGATTGCAGTTCGCGCTCAAGCCGAGT...TGA', SingleLetterAlphabet()), id='gene1_219', name='gene1_219', description='gene1_219', dbxrefs=[]), SeqRecord(seq=Seq('ATGCGCAAGTCAATCAAGTCGCGCGAGCGATTGCAGTTCGCGCTCAAGCCGAGT...TGA', SingleLetterAlphabet()), id='gene1_222', name='gene1_222', description='gene1_222', dbxrefs=[]), SeqRecord(seq=Seq('ATGCGCAAGTCAATCAAGTCGCGCGAGCGATTGCAGTTCGCGCTCAAGCCGAGT...TGA', SingleLetterAlphabet()), id='gene1_227', name='gene1_227', description='gene1_227', dbxrefs=[]), SeqRecord(seq=Seq('ATGCGCAAGTCAATCAAGTCGCGCGAGCGATTGCAGTTCGCGCTCAAGCCGAGT...TGA', SingleLetterAlphabet()), id='gene1_229', name='gene1_229', description='gene1_229', dbxrefs=[]), SeqRecord(seq=Seq('ATGCGCAAGTCAATCAAGTCGCGCGAGCGATTGCAGTTCGCGCTCAAGCCGAGT...TGA', SingleLetterAlphabet()), id='gene1_225', name='gene1_225', description='gene1_225', dbxrefs=[]), SeqRecord(seq=Seq('ATGCGCAAGTCAATCAAGTCGCGCGAGCGATTGCAGTTCGCGCTCAAGCCGAGT...TGA', SingleLetterAlphabet()), id='gene1_230', name='gene1_230', description='gene1_230', dbxrefs=[]), SeqRecord(seq=Seq('ATGCGCAAGTCAATCAAGTCGCGCGAGCGATTGCAGTTCGCGCTCAAGCCGAGT...TGA', SingleLetterAlphabet()), id='gene1_226', name='gene1_226', description='gene1_226', dbxrefs=[]), SeqRecord(seq=Seq('ATGCGCAAGTCAATCAAGTCGCGCGAGCGATTGCAGTTCGCGCTCAAGCCGAGT...TGA', SingleLetterAlphabet()), id='gene1_223', name='gene1_223', description='gene1_223', dbxrefs=[]), SeqRecord(seq=Seq('ATGCGCAAGTCAATCAAGTCGCGCGAGCGATTGCAGTTCGCGCTCAAGCCGAGT...TGA', SingleLetterAlphabet()), id='gene1_218', name='gene1_218', description='gene1_218', dbxrefs=[])], 'gene2': [SeqRecord(seq=Seq('ATGATTCGATCGGTGCAACGCAGACACATCGTCCGTTGGCTGTCCGCAATATTG...TGA', SingleLetterAlphabet()), id='gene2_224', name='gene2_224', description='gene2_224', dbxrefs=[]), SeqRecord(seq=Seq('ATGATTCGATCGGTGCAACGCAGACACATCGTCCGTTGGCTGTCCGCAATATTG...TGA', SingleLetterAlphabet()), id='gene2_228', name='gene2_228', description='gene2_228', dbxrefs=[]), SeqRecord(seq=Seq('ATGATTCGATCGGTGCAACGCAGACACATCGTCCGTTGGCTGTCCGCAATATTG...TGA', SingleLetterAlphabet()), id='gene2_219', name='gene2_219', description='gene2_219', dbxrefs=[]), SeqRecord(seq=Seq('ATGATTCGATCGGTGCAACGCAGACACATCGTCCGTTGGCTGTCCGCAATATTG...TGA', SingleLetterAlphabet()), id='gene2_222', name='gene2_222', description='gene2_222', dbxrefs=[]), SeqRecord(seq=Seq('ATGATTCGATCGGTGCAACGCAGACACATCGTCCGTTGGCTGTCCGCAATATTG...TGA', SingleLetterAlphabet()), id='gene2_227', name='gene2_227', description='gene2_227', dbxrefs=[]), SeqRecord(seq=Seq('ATGATTCGATCGGTGCAACGCAGACACATCGTCCGTTGGCTGTCCGCAATATTG...TGA', SingleLetterAlphabet()), id='gene2_229', name='gene2_229', description='gene2_229', dbxrefs=[]), SeqRecord(seq=Seq('ATGATTCGATCGGTGCAACGCAGACACATCGTCCGTTGGCTGTCCGCAATATTG...TGA', SingleLetterAlphabet()), id='gene2_225', name='gene2_225', description='gene2_225', dbxrefs=[]), SeqRecord(seq=Seq('ATGATTCGATCGGTGCAACGCAGACACATCGTCCGTTGGCTGTCCGCAATATTG...TGA', SingleLetterAlphabet()), id='gene2_230', name='gene2_230', description='gene2_230', dbxrefs=[]), SeqRecord(seq=Seq('ATGATTCGATCGGTGCAACGCAGACACATCGTCCGTTGGCTGTCCGCAATATTG...TGA', SingleLetterAlphabet()), id='gene2_226', name='gene2_226', description='gene2_226', dbxrefs=[]), SeqRecord(seq=Seq('ATGATTCGATCGGTGCAACGCAGACACATCGTCCGTTGGCTGTCCGCAATATTG...TGA', SingleLetterAlphabet()), id='gene2_223', name='gene2_223', description='gene2_223', dbxrefs=[]), SeqRecord(seq=Seq('ATGATTCGATCGGTGCAACGCAGACACATCGTCCGTTGGCTGTCCGCAATATTG...TGA', SingleLetterAlphabet()), id='gene2_218', name='gene2_218', description='gene2_218', dbxrefs=[])], 'gene3': [SeqRecord(seq=Seq('ATGAAAGCAACTCTTCGCTCGCTCGTCGCCGTGGCGGCATTCGCGTCGCTCGCA...TAA', SingleLetterAlphabet()), id='gene3_224', name='gene3_224', description='gene3_224', dbxrefs=[]), SeqRecord(seq=Seq('ATGAAAGCAACTCTTCGCTCGCTCGTCGCCGTGGCGGCATTCGCGTCGCTCGCA...TAA', SingleLetterAlphabet()), id='gene3_228', name='gene3_228', description='gene3_228', dbxrefs=[]), SeqRecord(seq=Seq('ATGAAAGCAACTCTTCGCTCGCTCGTCGCCGTGGCGGCATTCGCGTCGCTCGCA...TAA', SingleLetterAlphabet()), id='gene3_219', name='gene3_219', description='gene3_219', dbxrefs=[]), SeqRecord(seq=Seq('ATGAAAGCAACTCTTCGCTCGCTCGTCGCCGTGGCGGCATTCGCGTCGCTCGCA...TAA', SingleLetterAlphabet()), id='gene3_222', name='gene3_222', description='gene3_222', dbxrefs=[]), SeqRecord(seq=Seq('ATGAAAGCAACTCTTCGCTCGCTCGTCGCCGTGGCGGCATTCGCGTCGCTCGCA...TAA', SingleLetterAlphabet()), id='gene3_227', name='gene3_227', description='gene3_227', dbxrefs=[]), SeqRecord(seq=Seq('ATGAAAGCAACTCTTCGCTCGCTCGTCGCCGTGGCGGCATTCGCGTCGCTCGCA...TAA', SingleLetterAlphabet()), id='gene3_229', name='gene3_229', description='gene3_229', dbxrefs=[]), SeqRecord(seq=Seq('ATGAAAGCAACTCTTCGCTCGCTCGTCGCCGTGGCGGCATTCGCGTCGCTCGCA...TAA', SingleLetterAlphabet()), id='gene3_225', name='gene3_225', description='gene3_225', dbxrefs=[]), SeqRecord(seq=Seq('ATGAAAGCAACTCTTCGCTCGCTCGTCGCCGTGGCGGCATTCGCGTCGCTCGCA...TAA', SingleLetterAlphabet()), id='gene3_230', name='gene3_230', description='gene3_230', dbxrefs=[]), SeqRecord(seq=Seq('ATGAAAGCAACTCTTCGCTCGCTCGTCGCCGTGGCGGCATTCGCGTCGCTCGCA...TAA', SingleLetterAlphabet()), id='gene3_226', name='gene3_226', description='gene3_226', dbxrefs=[]), SeqRecord(seq=Seq('ATGAAAGCAACTCTTCGCTCGCTCGTCGCCGTGGCGGCATTCGCGTCGCTCGCA...TAA', SingleLetterAlphabet()), id='gene3_223', name='gene3_223', description='gene3_223', dbxrefs=[]), SeqRecord(seq=Seq('ATGAAAGCAACTCTTCGCTCGCTCGTCGCCGTGGCGGCATTCGCGTCGCTCGCA...TAA', SingleLetterAlphabet()), id='gene3_218', name='gene3_218', description='gene3_218', dbxrefs=[])], 'gene4': [SeqRecord(seq=Seq('ATGCCGGGCCGGCCGCCCGTACCGAGATCGGTCTGCTCCGCGCTGATCGCCGCG...TGA', SingleLetterAlphabet()), id='gene4_224', name='gene4_224', description='gene4_224', dbxrefs=[]), SeqRecord(seq=Seq('ATGCCGGGCCGGCCGCCCGTACCGAGATCGGTCTGCTCCGCGCTGATCGCCGCG...TGA', SingleLetterAlphabet()), id='gene4_228', name='gene4_228', description='gene4_228', dbxrefs=[]), SeqRecord(seq=Seq('ATGCCGGGCCGGCCGCCCGTACCGAGATCGGTCTGCTCCGCGCTGATCGCCGCG...TGA', SingleLetterAlphabet()), id='gene4_219', name='gene4_219', description='gene4_219', dbxrefs=[]), SeqRecord(seq=Seq('ATGCCGGGCCGGCCGCCCGTACCGAGATCGGTCTGCTCCGCGCTGATCGCCGCG...TGA', SingleLetterAlphabet()), id='gene4_222', name='gene4_222', description='gene4_222', dbxrefs=[]), SeqRecord(seq=Seq('ATGCCGGGCCGGCCGCCCGTACCGAGATCGGTCTGCTCCGCGCTGATCGCCGCG...TGA', SingleLetterAlphabet()), id='gene4_227', name='gene4_227', description='gene4_227', dbxrefs=[]), SeqRecord(seq=Seq('ATGCCGGGCCGGCCGCCCGTACCGAGATCGGTCTGCTCCGCGCTGATCGCCGCG...TGA', SingleLetterAlphabet()), id='gene4_229', name='gene4_229', description='gene4_229', dbxrefs=[]), SeqRecord(seq=Seq('ATGCCGGGCCGGCCGCCCGTACCGAGATCGGTCTGCTCCGCGCTGATCGCCGCG...TGA', SingleLetterAlphabet()), id='gene4_225', name='gene4_225', description='gene4_225', dbxrefs=[]), SeqRecord(seq=Seq('ATGCCGGGCCGGCCGCCCGTACCGAGATCGGTCTGCTCCGCGCTGATCGCCGCG...TGA', SingleLetterAlphabet()), id='gene4_230', name='gene4_230', description='gene4_230', dbxrefs=[]), SeqRecord(seq=Seq('ATGCCGGGCCGGCCGCCCGTACCGAGATCGGTCTGCTCCGCGCTGATCGCCGCG...TGA', SingleLetterAlphabet()), id='gene4_226', name='gene4_226', description='gene4_226', dbxrefs=[]), SeqRecord(seq=Seq('ATGCCGGGCCGGCCGCCCGTACCGAGATCGGTCTGCTCCGCGCTGATCGCCGCG...TGA', SingleLetterAlphabet()), id='gene4_223', name='gene4_223', description='gene4_223', dbxrefs=[]), SeqRecord(seq=Seq('ATGCCGGGCCGGCCGCCCGTACCGAGATCGGTCTGCTCCGCGCTGATCGCCGCG...TGA', SingleLetterAlphabet()), id='gene4_218', name='gene4_218', description='gene4_218', dbxrefs=[])], 'gene5': [SeqRecord(seq=Seq('ATGGAATCGATCGGCATCGTCGCTCCACAGACCATGCACTTCGCCGAACCGCTG...TGA', SingleLetterAlphabet()), id='gene5_224', name='gene5_224', description='gene5_224', dbxrefs=[]), SeqRecord(seq=Seq('ATGGAATCGATCGGCATCGTCGCTCCACAGACCATGCACTTCGCCGAACCGCTG...TGA', SingleLetterAlphabet()), id='gene5_228', name='gene5_228', description='gene5_228', dbxrefs=[]), SeqRecord(seq=Seq('ATGGAATCGATCGGCATCGTCGCTCCACAGACCATGCACTTCGCCGAACCGCTG...TGA', SingleLetterAlphabet()), id='gene5_219', name='gene5_219', description='gene5_219', dbxrefs=[]), SeqRecord(seq=Seq('ATGGAATCGATCGGCATCGTCGCTCCACAGACCATGCACTTCGCCGAACCGCTG...TGA', SingleLetterAlphabet()), id='gene5_222', name='gene5_222', description='gene5_222', dbxrefs=[]), SeqRecord(seq=Seq('ATGGAATCGATCGGCATCGTCGCTCCACAGACCATGCACTTCGCCGAACCGCTG...TGA', SingleLetterAlphabet()), id='gene5_227', name='gene5_227', description='gene5_227', dbxrefs=[]), SeqRecord(seq=Seq('ATGGAATCGATCGGCATCGTCGCTCCACAGACCATGCACTTCGCCGAACCGCTG...TGA', SingleLetterAlphabet()), id='gene5_229', name='gene5_229', description='gene5_229', dbxrefs=[]), SeqRecord(seq=Seq('ATGGAATCGATCGGCATCGTCGCTCCACAGACCATGCACTTCGCCGAACCGCTG...TGA', SingleLetterAlphabet()), id='gene5_225', name='gene5_225', description='gene5_225', dbxrefs=[]), SeqRecord(seq=Seq('ATGGAATCGATCGGCATCGTCGCTCCACAGACCATGCACTTCGCCGAACCGCTG...TGA', SingleLetterAlphabet()), id='gene5_230', name='gene5_230', description='gene5_230', dbxrefs=[]), SeqRecord(seq=Seq('ATGGAATCGATCGGCATCGTCGCTCCACAGACCATGCACTTCGCCGAACCGCTG...TGA', SingleLetterAlphabet()), id='gene5_226', name='gene5_226', description='gene5_226', dbxrefs=[]), SeqRecord(seq=Seq('ATGGAATCGATCGGCATCGTCGCTCCACAGACCATGCACTTCGCCGAACCGCTG...TGA', SingleLetterAlphabet()), id='gene5_223', name='gene5_223', description='gene5_223', dbxrefs=[]), SeqRecord(seq=Seq('ATGGAATCGATCGGCATCGTCGCTCCACAGACCATGCACTTCGCCGAACCGCTG...TGA', SingleLetterAlphabet()), id='gene5_218', name='gene5_218', description='gene5_218', dbxrefs=[])], 'gene6': [SeqRecord(seq=Seq('ATGAACCAGCAGGCGCTGAACTCCCTGTCCGCGCGCGCGGACTTCCGCGCGATC...TGA', SingleLetterAlphabet()), id='gene6_224', name='gene6_224', description='gene6_224', dbxrefs=[]), SeqRecord(seq=Seq('ATGAACCAGCAGGCGCTGAACTCCCTGTCCGCGCGCGCGGACTTCCGCGCGATC...TGA', SingleLetterAlphabet()), id='gene6_228', name='gene6_228', description='gene6_228', dbxrefs=[]), SeqRecord(seq=Seq('ATGAACCAGCAGGCGCTGAACTCCCTGTCCGCGCGCGCGGACTTCCGCGCGATC...TGA', SingleLetterAlphabet()), id='gene6_219', name='gene6_219', description='gene6_219', dbxrefs=[]), SeqRecord(seq=Seq('ATGAACCAGCAGGCGCTGAACTCCCTGTCCGCGCGCGCGGACTTCCGCGCGATC...TGA', SingleLetterAlphabet()), id='gene6_222', name='gene6_222', description='gene6_222', dbxrefs=[]), SeqRecord(seq=Seq('ATGAACCAGCAGGCGCTGAACTCCCTGTCCGCGCGCGCGGACTTCCGCGCGATC...TGA', SingleLetterAlphabet()), id='gene6_227', name='gene6_227', description='gene6_227', dbxrefs=[]), SeqRecord(seq=Seq('ATGAACCAGCAGGCGCTGAACTCCCTGTCCGCGCGCGCGGACTTCCGCGCGATC...TGA', SingleLetterAlphabet()), id='gene6_229', name='gene6_229', description='gene6_229', dbxrefs=[]), SeqRecord(seq=Seq('ATGAACCAGCAGGCGCTGAACTCCCTGTCCGCGCGCGCGGACTTCCGCGCGATC...TGA', SingleLetterAlphabet()), id='gene6_225', name='gene6_225', description='gene6_225', dbxrefs=[]), SeqRecord(seq=Seq('ATGAACCAGCAGGCGCTGAACTCCCTGTCCGCGCGCGCGGACTTCCGCGCGATC...TGA', SingleLetterAlphabet()), id='gene6_230', name='gene6_230', description='gene6_230', dbxrefs=[]), SeqRecord(seq=Seq('ATGAACCAGCAGGCGCTGAACTCCCTGTCCGCGCGCGCGGACTTCCGCGCGATC...TGA', SingleLetterAlphabet()), id='gene6_226', name='gene6_226', description='gene6_226', dbxrefs=[]), SeqRecord(seq=Seq('ATGAACCAGCAGGCGCTGAACTCCCTGTCCGCGCGCGCGGACTTCCGCGCGATC...TGA', SingleLetterAlphabet()), id='gene6_223', name='gene6_223', description='gene6_223', dbxrefs=[]), SeqRecord(seq=Seq('ATGAACCAGCAGGCGCTGAACTCCCTGTCCGCGCGCGCGGACTTCCGCGCGATC...TGA', SingleLetterAlphabet()), id='gene6_218', name='gene6_218', description='gene6_218', dbxrefs=[])], 'gene7': [SeqRecord(seq=Seq('ATGTCGAAAACGCCACACGAGGCGCCCGCACTCACCGCTCACGAGGAACATCCC...TGA', SingleLetterAlphabet()), id='gene7_224', name='gene7_224', description='gene7_224', dbxrefs=[]), SeqRecord(seq=Seq('ATGTCGAAAACGCCACACGAGGCGCCCGCACTCACCGCTCACGAGGAACATCCC...TGA', SingleLetterAlphabet()), id='gene7_228', name='gene7_228', description='gene7_228', dbxrefs=[]), SeqRecord(seq=Seq('ATGTCGAAAACGCCACACGAGGCGCCCGCACTCACCGCTCACGAGGAACATCCC...TGA', SingleLetterAlphabet()), id='gene7_219', name='gene7_219', description='gene7_219', dbxrefs=[]), SeqRecord(seq=Seq('ATGTCGAAAACGCCACACGAGGCGCCCGCACTCACCGCTCACGAGGAACATCCC...TGA', SingleLetterAlphabet()), id='gene7_222', name='gene7_222', description='gene7_222', dbxrefs=[]), SeqRecord(seq=Seq('ATGTCGAAAACGCCACACGAGGCGCCCGCACTCACCGCTCACGAGGAACATCCC...TGA', SingleLetterAlphabet()), id='gene7_227', name='gene7_227', description='gene7_227', dbxrefs=[]), SeqRecord(seq=Seq('ATGTCGAAAACGCCACACGAGGCGCCCGCACTCACCGCTCACGAGGAACATCCC...TGA', SingleLetterAlphabet()), id='gene7_229', name='gene7_229', description='gene7_229', dbxrefs=[]), SeqRecord(seq=Seq('ATGTCGAAAACGCCACACGAGGCGCCCGCACTCACCGCTCACGAGGAACATCCC...TGA', SingleLetterAlphabet()), id='gene7_225', name='gene7_225', description='gene7_225', dbxrefs=[]), SeqRecord(seq=Seq('ATGTCGAAAACGCCACACGAGGCGCCCGCACTCACCGCTCACGAGGAACATCCC...TGA', SingleLetterAlphabet()), id='gene7_230', name='gene7_230', description='gene7_230', dbxrefs=[]), SeqRecord(seq=Seq('ATGTCGAAAACGCCACACGAGGCGCCCGCACTCACCGCTCACGAGGAACATCCC...TGA', SingleLetterAlphabet()), id='gene7_226', name='gene7_226', description='gene7_226', dbxrefs=[]), SeqRecord(seq=Seq('ATGTCGAAAACGCCACACGAGGCGCCCGCACTCACCGCTCACGAGGAACATCCC...TGA', SingleLetterAlphabet()), id='gene7_223', name='gene7_223', description='gene7_223', dbxrefs=[]), SeqRecord(seq=Seq('ATGTCGAAAACGCCACACGAGGCGCCCGCACTCACCGCTCACGAGGAACATCCC...TGA', SingleLetterAlphabet()), id='gene7_218', name='gene7_218', description='gene7_218', dbxrefs=[])]}\n"
     ]
    }
   ],
   "source": [
    "\n",
    "\n",
    "for file in os.listdir(\"/Users/sarahharrison/Documents/GitHub/CF-BM-WGS-data-analysis/reference_data/muscle_test\"):\n",
    "    if file.endswith(\".fasta\") == True:\n",
    "        for seq_record in SeqIO.parse(file, \"fasta\"):\n",
    "            name = seq_record.id.split('_')[0]\n",
    "            all_genes[name].append(seq_record)\n",
    "\n",
    "print(all_genes)\n",
    "for k,v in all_genes.items():\n",
    "    len\n",
    "    #SeqIO.write(v, k + \".fasta\", \"fasta\") \n",
    "    \n",
    "\n",
    "    "
   ]
  },
  {
   "cell_type": "code",
   "execution_count": 37,
   "metadata": {
    "kernel": "Python3"
   },
   "outputs": [],
   "source": [
    "#print(all_genes)\n",
    "for k,v in all_genes.items():\n",
    "    SeqIO.write(v, k + \"new.fasta\", \"fasta\") "
   ]
  },
  {
   "cell_type": "code",
   "execution_count": 8,
   "metadata": {
    "kernel": "Bash"
   },
   "outputs": [
    {
     "name": "stdout",
     "output_type": "stream",
     "text": [
      "\n"
     ]
    }
   ],
   "source": [
    "mkdir gene_fasta \n",
    "mv gene*.fasta /Users/sarahharrison/Documents/GitHub/CF-BM-WGS-data-analysis/reference_data/muscle_test/gene_fasta"
   ]
  },
  {
   "cell_type": "code",
   "execution_count": 40,
   "metadata": {
    "kernel": "Bash"
   },
   "outputs": [
    {
     "name": "stdout",
     "output_type": "stream",
     "text": [
      "AS218_genes.fasta AS226_genes.fasta \u001b[34mfasta_genes\u001b[m\u001b[m       gene5new.fasta\r\n",
      "AS219_genes.fasta AS227_genes.fasta gene1new.fasta    gene6new.fasta\r\n",
      "AS222_genes.fasta AS228_genes.fasta gene2.fasta       gene7new.fasta\r\n",
      "AS223_genes.fasta AS229_genes.fasta gene2new.fasta    \u001b[34mgene_fasta\u001b[m\u001b[m\r\n",
      "AS224_genes.fasta AS230_genes.fasta gene3new.fasta\r\n",
      "AS225_genes.fasta Untitled.ipynb    gene4new.fasta\r\n",
      "\n"
     ]
    }
   ],
   "source": [
    "ls"
   ]
  },
  {
   "cell_type": "code",
   "execution_count": null,
   "metadata": {
    "kernel": "Python3"
   },
   "outputs": [],
   "source": []
  },
  {
   "cell_type": "code",
   "execution_count": null,
   "metadata": {
    "kernel": "Python3"
   },
   "outputs": [],
   "source": []
  },
  {
   "cell_type": "code",
   "execution_count": null,
   "metadata": {
    "kernel": "Bash"
   },
   "outputs": [],
   "source": [
    "mkdir fasta_genes \n",
    "mv gene*.fasta /Users/sarahharrison/Documents/GitHub/CF-BM-WGS-data-analysis/reference_data/muscle_test/fasta_genes"
   ]
  },
  {
   "cell_type": "code",
   "execution_count": 43,
   "metadata": {
    "kernel": "Bash"
   },
   "outputs": [
    {
     "name": "stdout",
     "output_type": "stream",
     "text": [
      "\u001b[31mAMAS.py\u001b[m\u001b[m           AS227_genes.fasta gene2.fasta       gene5new.phy\r\n",
      "AS218_genes.fasta AS228_genes.fasta gene2new.fasta    gene6new.fasta\r\n",
      "AS219_genes.fasta AS229_genes.fasta gene2new.phy      gene6new.phy\r\n",
      "AS222_genes.fasta AS230_genes.fasta gene3new.fasta    gene7new.fasta\r\n",
      "AS223_genes.fasta Untitled.ipynb    gene3new.phy      gene7new.phy\r\n",
      "AS224_genes.fasta \u001b[34mfasta_genes\u001b[m\u001b[m       gene4new.fasta    \u001b[34mgene_fasta\u001b[m\u001b[m\r\n",
      "AS225_genes.fasta gene1new.fasta    gene4new.phy\r\n",
      "AS226_genes.fasta gene1new.phy      gene5new.fasta\r\n",
      "\n"
     ]
    }
   ],
   "source": [
    "ls"
   ]
  },
  {
   "cell_type": "code",
   "execution_count": null,
   "metadata": {
    "kernel": "Bash"
   },
   "outputs": [],
   "source": [
    "muscle -in gene1.fasta -physout gene1.phy "
   ]
  },
  {
   "cell_type": "code",
   "execution_count": null,
   "metadata": {
    "kernel": "Bash"
   },
   "outputs": [],
   "source": []
  },
  {
   "cell_type": "code",
   "execution_count": 45,
   "metadata": {
    "kernel": "Bash",
    "scrolled": false
   },
   "outputs": [
    {
     "name": "stdout",
     "output_type": "stream",
     "text": [
      "\r\n",
      "MUSCLE v3.8.1551 by Robert C. Edgar\r\n",
      "\r\n",
      "http://www.drive5.com/muscle\r\n",
      "This software is donated to the public domain.\r\n",
      "Please cite: Edgar, R.C. Nucleic Acids Res 32(5), 1792-97.\r\n",
      "\r\n",
      "gene1new 11 seqs, lengths min 2724, max 2726, avg 2724\r\n",
      "00:00:00      1 MB(0%)  Iter   1    1.52%  K-mer dist pass 1\r",
      "00:00:00      1 MB(0%)  Iter   1  100.00%  K-mer dist pass 1\r",
      "\r\n",
      "00:00:00      1 MB(0%)  Iter   1    1.52%  K-mer dist pass 2\r",
      "00:00:00      1 MB(0%)  Iter   1  100.00%  K-mer dist pass 2\r",
      "\r\n",
      "00:00:00      5 MB(0%)  Iter   1   10.00%  Align node       \r",
      "00:00:00     18 MB(0%)  Iter   1   20.00%  Align node\r",
      "00:00:00     20 MB(0%)  Iter   1   30.00%  Align node\r",
      "00:00:01     22 MB(0%)  Iter   1   40.00%  Align node\r",
      "00:00:01     23 MB(0%)  Iter   1   50.00%  Align node\r",
      "00:00:02     24 MB(0%)  Iter   1   60.00%  Align node\r",
      "00:00:02     25 MB(0%)  Iter   1   70.00%  Align node\r",
      "00:00:02     26 MB(0%)  Iter   1   80.00%  Align node\r",
      "00:00:03     28 MB(0%)  Iter   1   90.00%  Align node\r",
      "00:00:03     29 MB(0%)  Iter   1  100.00%  Align node\r",
      "00:00:04     30 MB(0%)  Iter   1  100.00%  Align node\r",
      "\r\n",
      "00:00:04     30 MB(0%)  Iter   1    9.09%  Root alignment\r",
      "00:00:04     30 MB(0%)  Iter   1   18.18%  Root alignment\r",
      "00:00:04     30 MB(0%)  Iter   1   27.27%  Root alignment\r",
      "00:00:04     30 MB(0%)  Iter   1   36.36%  Root alignment\r",
      "00:00:04     30 MB(0%)  Iter   1   45.45%  Root alignment\r",
      "00:00:04     30 MB(0%)  Iter   1   54.55%  Root alignment\r",
      "00:00:04     30 MB(0%)  Iter   1   63.64%  Root alignment\r",
      "00:00:04     30 MB(0%)  Iter   1   72.73%  Root alignment\r",
      "00:00:04     30 MB(0%)  Iter   1   81.82%  Root alignment\r",
      "00:00:04     30 MB(0%)  Iter   1   90.91%  Root alignment\r",
      "00:00:04     30 MB(0%)  Iter   1  100.00%  Root alignment\r",
      "00:00:04     30 MB(0%)  Iter   1  100.00%  Root alignment\r",
      "\r\n",
      "00:00:04     30 MB(0%)  Iter   2   11.11%  Refine tree   \r",
      "00:00:04     30 MB(0%)  Iter   2   22.22%  Refine tree\r",
      "00:00:04     30 MB(0%)  Iter   2   33.33%  Refine tree\r",
      "00:00:05     31 MB(0%)  Iter   2   44.44%  Refine tree\r",
      "00:00:05     31 MB(0%)  Iter   2   55.56%  Refine tree\r",
      "00:00:05     31 MB(0%)  Iter   2   66.67%  Refine tree\r",
      "00:00:06     31 MB(0%)  Iter   2   77.78%  Refine tree\r",
      "00:00:06     31 MB(0%)  Iter   2  100.00%  Refine tree\r",
      "\r\n",
      "00:00:06     31 MB(0%)  Iter   2    9.09%  Root alignment\r",
      "00:00:06     31 MB(0%)  Iter   2   18.18%  Root alignment\r",
      "00:00:06     31 MB(0%)  Iter   2   27.27%  Root alignment\r",
      "00:00:06     31 MB(0%)  Iter   2   36.36%  Root alignment\r",
      "00:00:06     31 MB(0%)  Iter   2   45.45%  Root alignment\r",
      "00:00:06     31 MB(0%)  Iter   2   54.55%  Root alignment\r",
      "00:00:06     31 MB(0%)  Iter   2   63.64%  Root alignment\r",
      "00:00:06     31 MB(0%)  Iter   2   72.73%  Root alignment\r",
      "00:00:06     31 MB(0%)  Iter   2   81.82%  Root alignment\r",
      "00:00:06     31 MB(0%)  Iter   2   90.91%  Root alignment\r",
      "00:00:06     31 MB(0%)  Iter   2  100.00%  Root alignment\r",
      "00:00:06     31 MB(0%)  Iter   2  100.00%  Root alignment\r",
      "\r\n",
      "00:00:06     31 MB(0%)  Iter   2  100.00%  Root alignment\r",
      "\r\n",
      "00:00:07     31 MB(0%)  Iter   3   10.53%  Refine biparts\r",
      "00:00:07     31 MB(0%)  Iter   3   15.79%  Refine biparts\r",
      "00:00:07     31 MB(0%)  Iter   3   21.05%  Refine biparts\r",
      "00:00:08     31 MB(0%)  Iter   3   26.32%  Refine biparts\r",
      "00:00:08     31 MB(0%)  Iter   3   31.58%  Refine biparts\r",
      "00:00:08     31 MB(0%)  Iter   3   36.84%  Refine biparts\r",
      "00:00:09     31 MB(0%)  Iter   3   42.11%  Refine biparts\r",
      "00:00:09     31 MB(0%)  Iter   3   47.37%  Refine biparts\r",
      "00:00:09     31 MB(0%)  Iter   3   52.63%  Refine biparts\r",
      "00:00:10     31 MB(0%)  Iter   3   57.89%  Refine biparts\r",
      "00:00:10     31 MB(0%)  Iter   3   63.16%  Refine biparts\r",
      "00:00:11     31 MB(0%)  Iter   3   68.42%  Refine biparts\r",
      "00:00:11     31 MB(0%)  Iter   3   73.68%  Refine biparts\r",
      "00:00:11     31 MB(0%)  Iter   3   78.95%  Refine biparts\r",
      "00:00:12     31 MB(0%)  Iter   3   84.21%  Refine biparts\r",
      "00:00:12     31 MB(0%)  Iter   3   89.47%  Refine biparts\r",
      "00:00:12     31 MB(0%)  Iter   3   94.74%  Refine biparts\r",
      "00:00:13     31 MB(0%)  Iter   3  100.00%  Refine biparts\r",
      "00:00:13     31 MB(0%)  Iter   3  105.26%  Refine biparts\r",
      "00:00:13     31 MB(0%)  Iter   3  100.00%  Refine biparts\r",
      "\r\n",
      "\r\n",
      "MUSCLE v3.8.1551 by Robert C. Edgar\r\n",
      "\r\n",
      "http://www.drive5.com/muscle\r\n",
      "This software is donated to the public domain.\r\n",
      "Please cite: Edgar, R.C. Nucleic Acids Res 32(5), 1792-97.\r\n",
      "\r\n",
      "gene2new 11 seqs, lengths min 1040, max 1041, avg 1040\r\n",
      "00:00:00      1 MB(0%)  Iter   1    1.52%  K-mer dist pass 1\r",
      "00:00:00      1 MB(0%)  Iter   1  100.00%  K-mer dist pass 1\r",
      "\r\n",
      "00:00:00      1 MB(0%)  Iter   1    1.52%  K-mer dist pass 2\r",
      "00:00:00      1 MB(0%)  Iter   1  100.00%  K-mer dist pass 2\r",
      "\r\n",
      "00:00:00      3 MB(0%)  Iter   1   10.00%  Align node       \r",
      "00:00:00      6 MB(0%)  Iter   1   20.00%  Align node\r",
      "00:00:00      7 MB(0%)  Iter   1   30.00%  Align node\r",
      "00:00:00      7 MB(0%)  Iter   1   40.00%  Align node\r",
      "00:00:00      8 MB(0%)  Iter   1   50.00%  Align node\r",
      "00:00:01      8 MB(0%)  Iter   1   60.00%  Align node\r",
      "00:00:01      9 MB(0%)  Iter   1   70.00%  Align node\r",
      "00:00:01      9 MB(0%)  Iter   1   80.00%  Align node\r",
      "00:00:01     10 MB(0%)  Iter   1   90.00%  Align node\r",
      "00:00:01     10 MB(0%)  Iter   1  100.00%  Align node\r",
      "00:00:01     11 MB(0%)  Iter   1  100.00%  Align node\r",
      "\r\n",
      "00:00:01     11 MB(0%)  Iter   1    9.09%  Root alignment\r",
      "00:00:01     11 MB(0%)  Iter   1   18.18%  Root alignment\r",
      "00:00:01     11 MB(0%)  Iter   1   27.27%  Root alignment\r",
      "00:00:01     11 MB(0%)  Iter   1   36.36%  Root alignment\r",
      "00:00:01     11 MB(0%)  Iter   1   45.45%  Root alignment\r",
      "00:00:01     11 MB(0%)  Iter   1   54.55%  Root alignment\r",
      "00:00:01     11 MB(0%)  Iter   1   63.64%  Root alignment\r",
      "00:00:01     11 MB(0%)  Iter   1   72.73%  Root alignment\r",
      "00:00:01     11 MB(0%)  Iter   1   81.82%  Root alignment\r",
      "00:00:01     11 MB(0%)  Iter   1   90.91%  Root alignment\r",
      "00:00:01     11 MB(0%)  Iter   1  100.00%  Root alignment\r",
      "00:00:01     11 MB(0%)  Iter   1  100.00%  Root alignment\r",
      "\r\n",
      "00:00:01     11 MB(0%)  Iter   2   11.11%  Refine tree   \r",
      "00:00:01     11 MB(0%)  Iter   2   22.22%  Refine tree\r",
      "00:00:01     11 MB(0%)  Iter   2   33.33%  Refine tree\r",
      "00:00:01     11 MB(0%)  Iter   2   44.44%  Refine tree\r",
      "00:00:01     11 MB(0%)  Iter   2   55.56%  Refine tree\r",
      "00:00:01     11 MB(0%)  Iter   2  100.00%  Refine tree\r",
      "\r\n",
      "00:00:01     11 MB(0%)  Iter   2    9.09%  Root alignment\r",
      "00:00:01     11 MB(0%)  Iter   2   18.18%  Root alignment\r",
      "00:00:01     11 MB(0%)  Iter   2   27.27%  Root alignment\r",
      "00:00:01     11 MB(0%)  Iter   2   36.36%  Root alignment\r",
      "00:00:01     11 MB(0%)  Iter   2   45.45%  Root alignment\r",
      "00:00:01     11 MB(0%)  Iter   2   54.55%  Root alignment\r",
      "00:00:01     11 MB(0%)  Iter   2   63.64%  Root alignment\r",
      "00:00:01     11 MB(0%)  Iter   2   72.73%  Root alignment\r",
      "00:00:01     11 MB(0%)  Iter   2   81.82%  Root alignment\r",
      "00:00:01     11 MB(0%)  Iter   2   90.91%  Root alignment\r",
      "00:00:01     11 MB(0%)  Iter   2  100.00%  Root alignment\r",
      "00:00:01     11 MB(0%)  Iter   2  100.00%  Root alignment\r",
      "\r\n",
      "00:00:01     11 MB(0%)  Iter   2  100.00%  Root alignment\r",
      "\r\n",
      "00:00:01     11 MB(0%)  Iter   3   10.53%  Refine biparts\r",
      "00:00:01     11 MB(0%)  Iter   3   15.79%  Refine biparts\r",
      "00:00:01     11 MB(0%)  Iter   3   21.05%  Refine biparts\r",
      "00:00:01     11 MB(0%)  Iter   3   26.32%  Refine biparts\r",
      "00:00:01     11 MB(0%)  Iter   3   31.58%  Refine biparts\r",
      "00:00:01     11 MB(0%)  Iter   3   36.84%  Refine biparts\r",
      "00:00:01     11 MB(0%)  Iter   3   42.11%  Refine biparts\r",
      "00:00:01     11 MB(0%)  Iter   3   47.37%  Refine biparts\r",
      "00:00:01     11 MB(0%)  Iter   3   52.63%  Refine biparts\r",
      "00:00:01     11 MB(0%)  Iter   3   57.89%  Refine biparts\r",
      "00:00:01     11 MB(0%)  Iter   3   63.16%  Refine biparts\r",
      "00:00:02     11 MB(0%)  Iter   3   68.42%  Refine biparts\r",
      "00:00:02     11 MB(0%)  Iter   3   73.68%  Refine biparts\r",
      "00:00:02     11 MB(0%)  Iter   3   78.95%  Refine biparts\r",
      "00:00:02     11 MB(0%)  Iter   3   84.21%  Refine biparts\r",
      "00:00:02     11 MB(0%)  Iter   3   89.47%  Refine biparts\r",
      "00:00:02     11 MB(0%)  Iter   3   94.74%  Refine biparts\r",
      "00:00:02     11 MB(0%)  Iter   3  100.00%  Refine biparts\r",
      "00:00:02     11 MB(0%)  Iter   3  105.26%  Refine biparts\r",
      "00:00:02     11 MB(0%)  Iter   3  100.00%  Refine biparts\r",
      "\r\n",
      "\r\n",
      "MUSCLE v3.8.1551 by Robert C. Edgar\r\n",
      "\r\n",
      "http://www.drive5.com/muscle\r\n",
      "This software is donated to the public domain.\r\n",
      "Please cite: Edgar, R.C. Nucleic Acids Res 32(5), 1792-97.\r\n",
      "\r\n",
      "gene3new 11 seqs, lengths min 540, max 540, avg 540\r\n",
      "00:00:00      1 MB(0%)  Iter   1    1.52%  K-mer dist pass 1\r",
      "00:00:00      1 MB(0%)  Iter   1  100.00%  K-mer dist pass 1\r",
      "\r\n",
      "00:00:00      1 MB(0%)  Iter   1    1.52%  K-mer dist pass 2\r",
      "00:00:00      1 MB(0%)  Iter   1  100.00%  K-mer dist pass 2\r",
      "\r\n",
      "00:00:00      2 MB(0%)  Iter   1   10.00%  Align node       \r",
      "00:00:00      3 MB(0%)  Iter   1   20.00%  Align node\r",
      "00:00:00      4 MB(0%)  Iter   1   30.00%  Align node\r",
      "00:00:00      4 MB(0%)  Iter   1   40.00%  Align node\r",
      "00:00:00      5 MB(0%)  Iter   1   50.00%  Align node\r",
      "00:00:00      5 MB(0%)  Iter   1   60.00%  Align node\r",
      "00:00:00      5 MB(0%)  Iter   1   70.00%  Align node\r",
      "00:00:00      5 MB(0%)  Iter   1   80.00%  Align node\r",
      "00:00:00      6 MB(0%)  Iter   1   90.00%  Align node\r",
      "00:00:00      6 MB(0%)  Iter   1  100.00%  Align node\r",
      "00:00:00      6 MB(0%)  Iter   1  100.00%  Align node\r",
      "\r\n",
      "00:00:00      6 MB(0%)  Iter   1    9.09%  Root alignment\r",
      "00:00:00      6 MB(0%)  Iter   1   18.18%  Root alignment\r",
      "00:00:00      6 MB(0%)  Iter   1   27.27%  Root alignment\r",
      "00:00:00      6 MB(0%)  Iter   1   36.36%  Root alignment\r",
      "00:00:00      6 MB(0%)  Iter   1   45.45%  Root alignment\r",
      "00:00:00      6 MB(0%)  Iter   1   54.55%  Root alignment\r",
      "00:00:00      6 MB(0%)  Iter   1   63.64%  Root alignment\r",
      "00:00:00      6 MB(0%)  Iter   1   72.73%  Root alignment\r",
      "00:00:00      6 MB(0%)  Iter   1   81.82%  Root alignment\r",
      "00:00:00      6 MB(0%)  Iter   1   90.91%  Root alignment\r",
      "00:00:00      6 MB(0%)  Iter   1  100.00%  Root alignment\r",
      "00:00:00      6 MB(0%)  Iter   1  100.00%  Root alignment\r",
      "\r\n",
      "00:00:00      6 MB(0%)  Iter   2   11.11%  Refine tree   \r",
      "00:00:00      6 MB(0%)  Iter   2   22.22%  Refine tree\r",
      "00:00:00      6 MB(0%)  Iter   2  100.00%  Refine tree\r",
      "\r\n",
      "00:00:00      6 MB(0%)  Iter   2    9.09%  Root alignment\r",
      "00:00:00      6 MB(0%)  Iter   2   18.18%  Root alignment\r",
      "00:00:00      6 MB(0%)  Iter   2   27.27%  Root alignment\r",
      "00:00:00      6 MB(0%)  Iter   2   36.36%  Root alignment\r",
      "00:00:00      6 MB(0%)  Iter   2   45.45%  Root alignment\r",
      "00:00:00      6 MB(0%)  Iter   2   54.55%  Root alignment\r",
      "00:00:00      6 MB(0%)  Iter   2   63.64%  Root alignment\r",
      "00:00:00      6 MB(0%)  Iter   2   72.73%  Root alignment\r",
      "00:00:00      6 MB(0%)  Iter   2   81.82%  Root alignment\r",
      "00:00:00      6 MB(0%)  Iter   2   90.91%  Root alignment\r",
      "00:00:00      6 MB(0%)  Iter   2  100.00%  Root alignment\r",
      "00:00:00      6 MB(0%)  Iter   2  100.00%  Root alignment\r",
      "\r\n",
      "00:00:00      6 MB(0%)  Iter   2  100.00%  Root alignment\r",
      "\r\n",
      "00:00:00      6 MB(0%)  Iter   3   10.53%  Refine biparts\r",
      "00:00:00      6 MB(0%)  Iter   3   15.79%  Refine biparts\r",
      "00:00:00      6 MB(0%)  Iter   3   21.05%  Refine biparts\r",
      "00:00:00      6 MB(0%)  Iter   3   26.32%  Refine biparts\r",
      "00:00:00      6 MB(0%)  Iter   3   31.58%  Refine biparts\r",
      "00:00:00      6 MB(0%)  Iter   3   36.84%  Refine biparts\r",
      "00:00:00      6 MB(0%)  Iter   3   42.11%  Refine biparts\r",
      "00:00:00      6 MB(0%)  Iter   3   47.37%  Refine biparts\r",
      "00:00:00      6 MB(0%)  Iter   3   52.63%  Refine biparts\r",
      "00:00:00      6 MB(0%)  Iter   3   57.89%  Refine biparts\r",
      "00:00:00      6 MB(0%)  Iter   3   63.16%  Refine biparts\r",
      "00:00:00      6 MB(0%)  Iter   3   68.42%  Refine biparts\r",
      "00:00:00      6 MB(0%)  Iter   3   73.68%  Refine biparts\r",
      "00:00:00      6 MB(0%)  Iter   3   78.95%  Refine biparts\r",
      "00:00:00      6 MB(0%)  Iter   3   84.21%  Refine biparts\r",
      "00:00:00      6 MB(0%)  Iter   3   89.47%  Refine biparts\r",
      "00:00:00      6 MB(0%)  Iter   3   94.74%  Refine biparts\r",
      "00:00:00      6 MB(0%)  Iter   3  100.00%  Refine biparts\r",
      "00:00:00      6 MB(0%)  Iter   3  105.26%  Refine biparts\r",
      "00:00:00      6 MB(0%)  Iter   3  100.00%  Refine biparts\r",
      "\r\n",
      "\r\n",
      "MUSCLE v3.8.1551 by Robert C. Edgar\r\n",
      "\r\n",
      "http://www.drive5.com/muscle\r\n",
      "This software is donated to the public domain.\r\n",
      "Please cite: Edgar, R.C. Nucleic Acids Res 32(5), 1792-97.\r\n",
      "\r\n",
      "gene4new 11 seqs, lengths min 2990, max 2994, avg 2991\r\n",
      "00:00:00      1 MB(0%)  Iter   1    1.52%  K-mer dist pass 1\r",
      "00:00:00      1 MB(0%)  Iter   1  100.00%  K-mer dist pass 1\r",
      "\r\n",
      "00:00:00      1 MB(0%)  Iter   1    1.52%  K-mer dist pass 2\r",
      "00:00:00      1 MB(0%)  Iter   1  100.00%  K-mer dist pass 2\r",
      "\r\n",
      "00:00:00      3 MB(0%)  Iter   1   10.00%  Align node       \r",
      "00:00:01     17 MB(0%)  Iter   1   20.00%  Align node\r",
      "00:00:01     19 MB(0%)  Iter   1   30.00%  Align node\r",
      "00:00:02     22 MB(0%)  Iter   1   40.00%  Align node\r",
      "00:00:03     23 MB(0%)  Iter   1   50.00%  Align node\r",
      "00:00:03     25 MB(0%)  Iter   1   60.00%  Align node\r",
      "00:00:03     27 MB(0%)  Iter   1   70.00%  Align node\r",
      "00:00:04     30 MB(0%)  Iter   1   80.00%  Align node\r",
      "00:00:04     31 MB(0%)  Iter   1   90.00%  Align node\r",
      "00:00:05     31 MB(0%)  Iter   1  100.00%  Align node\r",
      "00:00:05     32 MB(0%)  Iter   1  100.00%  Align node\r",
      "\r\n",
      "00:00:05     32 MB(0%)  Iter   1    9.09%  Root alignment\r",
      "00:00:05     32 MB(0%)  Iter   1   18.18%  Root alignment\r",
      "00:00:05     32 MB(0%)  Iter   1   27.27%  Root alignment\r",
      "00:00:05     32 MB(0%)  Iter   1   36.36%  Root alignment\r",
      "00:00:05     32 MB(0%)  Iter   1   45.45%  Root alignment\r",
      "00:00:05     32 MB(0%)  Iter   1   54.55%  Root alignment\r",
      "00:00:05     32 MB(0%)  Iter   1   63.64%  Root alignment\r",
      "00:00:05     32 MB(0%)  Iter   1   72.73%  Root alignment\r",
      "00:00:05     32 MB(0%)  Iter   1   81.82%  Root alignment\r",
      "00:00:05     32 MB(0%)  Iter   1   90.91%  Root alignment\r",
      "00:00:05     32 MB(0%)  Iter   1  100.00%  Root alignment\r",
      "00:00:05     32 MB(0%)  Iter   1  100.00%  Root alignment\r",
      "\r\n",
      "00:00:05     32 MB(0%)  Iter   2   11.11%  Refine tree   \r",
      "00:00:06     33 MB(0%)  Iter   2   22.22%  Refine tree\r",
      "00:00:06     33 MB(0%)  Iter   2  100.00%  Refine tree\r",
      "\r\n",
      "00:00:06     33 MB(0%)  Iter   2    9.09%  Root alignment\r",
      "00:00:06     33 MB(0%)  Iter   2   18.18%  Root alignment\r",
      "00:00:06     33 MB(0%)  Iter   2   27.27%  Root alignment\r",
      "00:00:06     33 MB(0%)  Iter   2   36.36%  Root alignment\r",
      "00:00:06     33 MB(0%)  Iter   2   45.45%  Root alignment\r",
      "00:00:06     33 MB(0%)  Iter   2   54.55%  Root alignment\r",
      "00:00:06     33 MB(0%)  Iter   2   63.64%  Root alignment\r",
      "00:00:06     33 MB(0%)  Iter   2   72.73%  Root alignment\r",
      "00:00:06     33 MB(0%)  Iter   2   81.82%  Root alignment\r",
      "00:00:06     33 MB(0%)  Iter   2   90.91%  Root alignment\r",
      "00:00:06     33 MB(0%)  Iter   2  100.00%  Root alignment\r",
      "00:00:06     33 MB(0%)  Iter   2  100.00%  Root alignment\r",
      "\r\n",
      "00:00:06     33 MB(0%)  Iter   2  100.00%  Root alignment\r",
      "\r\n",
      "00:00:07     33 MB(0%)  Iter   3   10.53%  Refine biparts\r",
      "00:00:07     33 MB(0%)  Iter   3   15.79%  Refine biparts\r",
      "00:00:08     33 MB(0%)  Iter   3   21.05%  Refine biparts\r",
      "00:00:08     33 MB(0%)  Iter   3   26.32%  Refine biparts\r",
      "00:00:09     33 MB(0%)  Iter   3   31.58%  Refine biparts\r",
      "00:00:09     33 MB(0%)  Iter   3   36.84%  Refine biparts\r",
      "00:00:10     33 MB(0%)  Iter   3   42.11%  Refine biparts\r",
      "00:00:10     33 MB(0%)  Iter   3   47.37%  Refine biparts\r",
      "00:00:11     33 MB(0%)  Iter   3   52.63%  Refine biparts\r",
      "00:00:11     33 MB(0%)  Iter   3   57.89%  Refine biparts\r",
      "00:00:12     33 MB(0%)  Iter   3   63.16%  Refine biparts\r",
      "00:00:12     33 MB(0%)  Iter   3   68.42%  Refine biparts\r",
      "00:00:13     33 MB(0%)  Iter   3   73.68%  Refine biparts\r",
      "00:00:13     33 MB(0%)  Iter   3   78.95%  Refine biparts\r",
      "00:00:13     33 MB(0%)  Iter   3   84.21%  Refine biparts\r",
      "00:00:14     33 MB(0%)  Iter   3   89.47%  Refine biparts\r",
      "00:00:14     33 MB(0%)  Iter   3   94.74%  Refine biparts\r",
      "00:00:15     33 MB(0%)  Iter   3  100.00%  Refine biparts\r",
      "00:00:15     33 MB(0%)  Iter   3  105.26%  Refine biparts\r",
      "00:00:15     33 MB(0%)  Iter   3  100.00%  Refine biparts\r",
      "\r\n",
      "\r\n",
      "MUSCLE v3.8.1551 by Robert C. Edgar\r\n",
      "\r\n",
      "http://www.drive5.com/muscle\r\n",
      "This software is donated to the public domain.\r\n",
      "Please cite: Edgar, R.C. Nucleic Acids Res 32(5), 1792-97.\r\n",
      "\r\n",
      "gene5new 11 seqs, lengths min 1146, max 1148, avg 1146\r\n",
      "00:00:00      1 MB(0%)  Iter   1    1.52%  K-mer dist pass 1\r",
      "00:00:00      1 MB(0%)  Iter   1  100.00%  K-mer dist pass 1\r",
      "\r\n",
      "00:00:00      1 MB(0%)  Iter   1    1.52%  K-mer dist pass 2\r",
      "00:00:00      1 MB(0%)  Iter   1  100.00%  K-mer dist pass 2\r",
      "\r\n",
      "00:00:00      2 MB(0%)  Iter   1   10.00%  Align node       \r",
      "00:00:01      6 MB(0%)  Iter   1   20.00%  Align node\r",
      "00:00:01      7 MB(0%)  Iter   1   30.00%  Align node\r",
      "00:00:01      8 MB(0%)  Iter   1   40.00%  Align node\r",
      "00:00:01      8 MB(0%)  Iter   1   50.00%  Align node\r",
      "00:00:01      8 MB(0%)  Iter   1   60.00%  Align node\r",
      "00:00:01      9 MB(0%)  Iter   1   70.00%  Align node\r",
      "00:00:01     10 MB(0%)  Iter   1   80.00%  Align node\r",
      "00:00:01     11 MB(0%)  Iter   1   90.00%  Align node\r",
      "00:00:01     11 MB(0%)  Iter   1  100.00%  Align node\r",
      "00:00:01     11 MB(0%)  Iter   1  100.00%  Align node\r",
      "\r\n",
      "00:00:01     11 MB(0%)  Iter   1    9.09%  Root alignment\r",
      "00:00:01     11 MB(0%)  Iter   1   18.18%  Root alignment\r",
      "00:00:01     11 MB(0%)  Iter   1   27.27%  Root alignment\r",
      "00:00:01     11 MB(0%)  Iter   1   36.36%  Root alignment\r",
      "00:00:01     11 MB(0%)  Iter   1   45.45%  Root alignment\r",
      "00:00:01     11 MB(0%)  Iter   1   54.55%  Root alignment\r",
      "00:00:01     11 MB(0%)  Iter   1   63.64%  Root alignment\r",
      "00:00:01     11 MB(0%)  Iter   1   72.73%  Root alignment\r",
      "00:00:01     11 MB(0%)  Iter   1   81.82%  Root alignment\r",
      "00:00:01     11 MB(0%)  Iter   1   90.91%  Root alignment\r",
      "00:00:01     11 MB(0%)  Iter   1  100.00%  Root alignment\r",
      "00:00:01     11 MB(0%)  Iter   1  100.00%  Root alignment\r",
      "\r\n",
      "00:00:01     12 MB(0%)  Iter   2   11.11%  Refine tree   \r",
      "00:00:01     12 MB(0%)  Iter   2   22.22%  Refine tree\r",
      "00:00:01     12 MB(0%)  Iter   2   33.33%  Refine tree\r",
      "00:00:01     12 MB(0%)  Iter   2   44.44%  Refine tree\r",
      "00:00:01     12 MB(0%)  Iter   2   55.56%  Refine tree\r",
      "00:00:01     12 MB(0%)  Iter   2   66.67%  Refine tree\r",
      "00:00:01     12 MB(0%)  Iter   2   77.78%  Refine tree\r",
      "00:00:01     12 MB(0%)  Iter   2   88.89%  Refine tree\r",
      "00:00:02     12 MB(0%)  Iter   2  100.00%  Refine tree\r",
      "\r\n",
      "00:00:02     12 MB(0%)  Iter   2    9.09%  Root alignment\r",
      "00:00:02     12 MB(0%)  Iter   2   18.18%  Root alignment\r",
      "00:00:02     12 MB(0%)  Iter   2   27.27%  Root alignment\r",
      "00:00:02     12 MB(0%)  Iter   2   36.36%  Root alignment\r",
      "00:00:02     12 MB(0%)  Iter   2   45.45%  Root alignment\r",
      "00:00:02     12 MB(0%)  Iter   2   54.55%  Root alignment\r",
      "00:00:02     12 MB(0%)  Iter   2   63.64%  Root alignment\r",
      "00:00:02     12 MB(0%)  Iter   2   72.73%  Root alignment\r",
      "00:00:02     12 MB(0%)  Iter   2   81.82%  Root alignment\r",
      "00:00:02     12 MB(0%)  Iter   2   90.91%  Root alignment\r",
      "00:00:02     12 MB(0%)  Iter   2  100.00%  Root alignment\r",
      "00:00:02     12 MB(0%)  Iter   2  100.00%  Root alignment\r",
      "\r\n",
      "00:00:02     12 MB(0%)  Iter   2  100.00%  Root alignment\r",
      "\r\n",
      "00:00:02     12 MB(0%)  Iter   3   10.53%  Refine biparts\r",
      "00:00:02     12 MB(0%)  Iter   3   15.79%  Refine biparts\r",
      "00:00:02     12 MB(0%)  Iter   3   21.05%  Refine biparts\r",
      "00:00:02     12 MB(0%)  Iter   3   26.32%  Refine biparts\r",
      "00:00:02     12 MB(0%)  Iter   3   31.58%  Refine biparts\r",
      "00:00:02     12 MB(0%)  Iter   3   36.84%  Refine biparts\r",
      "00:00:02     12 MB(0%)  Iter   3   42.11%  Refine biparts\r",
      "00:00:02     12 MB(0%)  Iter   3   47.37%  Refine biparts\r",
      "00:00:02     12 MB(0%)  Iter   3   52.63%  Refine biparts\r",
      "00:00:02     12 MB(0%)  Iter   3   57.89%  Refine biparts\r",
      "00:00:02     12 MB(0%)  Iter   3   63.16%  Refine biparts\r",
      "00:00:02     12 MB(0%)  Iter   3   68.42%  Refine biparts\r",
      "00:00:02     12 MB(0%)  Iter   3   73.68%  Refine biparts\r",
      "00:00:02     12 MB(0%)  Iter   3   78.95%  Refine biparts\r",
      "00:00:02     12 MB(0%)  Iter   3   84.21%  Refine biparts\r",
      "00:00:03     12 MB(0%)  Iter   3   89.47%  Refine biparts\r",
      "00:00:03     12 MB(0%)  Iter   3   94.74%  Refine biparts\r",
      "00:00:03     12 MB(0%)  Iter   3  100.00%  Refine biparts\r",
      "00:00:03     12 MB(0%)  Iter   3  105.26%  Refine biparts\r",
      "00:00:03     12 MB(0%)  Iter   3  100.00%  Refine biparts\r",
      "\r\n",
      "\r\n",
      "MUSCLE v3.8.1551 by Robert C. Edgar\r\n",
      "\r\n",
      "http://www.drive5.com/muscle\r\n",
      "This software is donated to the public domain.\r\n",
      "Please cite: Edgar, R.C. Nucleic Acids Res 32(5), 1792-97.\r\n",
      "\r\n",
      "gene6new 11 seqs, lengths min 608, max 609, avg 608\r\n",
      "00:00:00      1 MB(0%)  Iter   1    1.52%  K-mer dist pass 1\r",
      "00:00:00      1 MB(0%)  Iter   1  100.00%  K-mer dist pass 1\r",
      "\r\n",
      "00:00:00      1 MB(0%)  Iter   1    1.52%  K-mer dist pass 2\r",
      "00:00:00      1 MB(0%)  Iter   1  100.00%  K-mer dist pass 2\r",
      "\r\n",
      "00:00:00      2 MB(0%)  Iter   1   10.00%  Align node       \r",
      "00:00:00      4 MB(0%)  Iter   1   20.00%  Align node\r",
      "00:00:00      4 MB(0%)  Iter   1   30.00%  Align node\r",
      "00:00:00      4 MB(0%)  Iter   1   40.00%  Align node\r",
      "00:00:00      5 MB(0%)  Iter   1   50.00%  Align node\r",
      "00:00:00      5 MB(0%)  Iter   1   60.00%  Align node\r",
      "00:00:00      6 MB(0%)  Iter   1   70.00%  Align node\r",
      "00:00:00      6 MB(0%)  Iter   1   80.00%  Align node\r",
      "00:00:00      6 MB(0%)  Iter   1   90.00%  Align node\r",
      "00:00:00      6 MB(0%)  Iter   1  100.00%  Align node\r",
      "00:00:00      6 MB(0%)  Iter   1  100.00%  Align node\r",
      "\r\n",
      "00:00:00      6 MB(0%)  Iter   1    9.09%  Root alignment\r",
      "00:00:00      6 MB(0%)  Iter   1   18.18%  Root alignment\r",
      "00:00:00      6 MB(0%)  Iter   1   27.27%  Root alignment\r",
      "00:00:00      6 MB(0%)  Iter   1   36.36%  Root alignment\r",
      "00:00:00      6 MB(0%)  Iter   1   45.45%  Root alignment\r",
      "00:00:00      6 MB(0%)  Iter   1   54.55%  Root alignment\r",
      "00:00:00      6 MB(0%)  Iter   1   63.64%  Root alignment\r",
      "00:00:00      6 MB(0%)  Iter   1   72.73%  Root alignment\r",
      "00:00:00      6 MB(0%)  Iter   1   81.82%  Root alignment\r",
      "00:00:00      6 MB(0%)  Iter   1   90.91%  Root alignment\r",
      "00:00:00      6 MB(0%)  Iter   1  100.00%  Root alignment\r",
      "00:00:00      6 MB(0%)  Iter   1  100.00%  Root alignment\r",
      "\r\n",
      "00:00:00      6 MB(0%)  Iter   2   11.11%  Refine tree   \r",
      "00:00:00      7 MB(0%)  Iter   2   22.22%  Refine tree\r",
      "00:00:00      7 MB(0%)  Iter   2   33.33%  Refine tree\r",
      "00:00:00      7 MB(0%)  Iter   2   44.44%  Refine tree\r",
      "00:00:00      7 MB(0%)  Iter   2   55.56%  Refine tree\r",
      "00:00:00      7 MB(0%)  Iter   2   66.67%  Refine tree\r",
      "00:00:00      7 MB(0%)  Iter   2   77.78%  Refine tree\r",
      "00:00:00      7 MB(0%)  Iter   2   88.89%  Refine tree\r",
      "00:00:00      7 MB(0%)  Iter   2  100.00%  Refine tree\r",
      "00:00:00      7 MB(0%)  Iter   2  100.00%  Refine tree\r",
      "\r\n",
      "00:00:00      7 MB(0%)  Iter   2    9.09%  Root alignment\r",
      "00:00:00      7 MB(0%)  Iter   2   18.18%  Root alignment\r",
      "00:00:00      7 MB(0%)  Iter   2   27.27%  Root alignment\r",
      "00:00:00      7 MB(0%)  Iter   2   36.36%  Root alignment\r",
      "00:00:00      7 MB(0%)  Iter   2   45.45%  Root alignment\r",
      "00:00:00      7 MB(0%)  Iter   2   54.55%  Root alignment\r",
      "00:00:00      7 MB(0%)  Iter   2   63.64%  Root alignment\r",
      "00:00:00      7 MB(0%)  Iter   2   72.73%  Root alignment\r",
      "00:00:00      7 MB(0%)  Iter   2   81.82%  Root alignment\r",
      "00:00:00      7 MB(0%)  Iter   2   90.91%  Root alignment\r",
      "00:00:00      7 MB(0%)  Iter   2  100.00%  Root alignment\r",
      "00:00:00      7 MB(0%)  Iter   2  100.00%  Root alignment\r",
      "\r\n",
      "00:00:00      7 MB(0%)  Iter   2  100.00%  Root alignment\r",
      "\r\n",
      "00:00:00      7 MB(0%)  Iter   3   10.53%  Refine biparts\r",
      "00:00:00      7 MB(0%)  Iter   3   15.79%  Refine biparts\r",
      "00:00:00      7 MB(0%)  Iter   3   21.05%  Refine biparts\r",
      "00:00:00      7 MB(0%)  Iter   3   26.32%  Refine biparts\r",
      "00:00:00      7 MB(0%)  Iter   3   31.58%  Refine biparts\r",
      "00:00:00      7 MB(0%)  Iter   3   36.84%  Refine biparts\r",
      "00:00:00      7 MB(0%)  Iter   3   42.11%  Refine biparts\r",
      "00:00:00      7 MB(0%)  Iter   3   47.37%  Refine biparts\r",
      "00:00:00      7 MB(0%)  Iter   3   52.63%  Refine biparts\r",
      "00:00:00      7 MB(0%)  Iter   3   57.89%  Refine biparts\r",
      "00:00:00      7 MB(0%)  Iter   3   63.16%  Refine biparts\r",
      "00:00:00      7 MB(0%)  Iter   3   68.42%  Refine biparts\r",
      "00:00:00      7 MB(0%)  Iter   3   73.68%  Refine biparts\r",
      "00:00:00      7 MB(0%)  Iter   3   78.95%  Refine biparts\r",
      "00:00:00      7 MB(0%)  Iter   3   84.21%  Refine biparts\r",
      "00:00:00      7 MB(0%)  Iter   3   89.47%  Refine biparts\r",
      "00:00:00      7 MB(0%)  Iter   3   94.74%  Refine biparts\r",
      "00:00:00      7 MB(0%)  Iter   3  100.00%  Refine biparts\r",
      "00:00:00      7 MB(0%)  Iter   3  105.26%  Refine biparts\r",
      "00:00:00      7 MB(0%)  Iter   3  100.00%  Refine biparts\r",
      "\r\n",
      "\r\n",
      "MUSCLE v3.8.1551 by Robert C. Edgar\r\n",
      "\r\n",
      "http://www.drive5.com/muscle\r\n",
      "This software is donated to the public domain.\r\n",
      "Please cite: Edgar, R.C. Nucleic Acids Res 32(5), 1792-97.\r\n",
      "\r\n",
      "gene7new 11 seqs, lengths min 1420, max 1422, avg 1421\r\n",
      "00:00:00      1 MB(0%)  Iter   1    1.52%  K-mer dist pass 1\r",
      "00:00:00      1 MB(0%)  Iter   1  100.00%  K-mer dist pass 1\r",
      "\r\n",
      "00:00:00      1 MB(0%)  Iter   1    1.52%  K-mer dist pass 2\r",
      "00:00:00      1 MB(0%)  Iter   1  100.00%  K-mer dist pass 2\r",
      "\r\n",
      "00:00:00      3 MB(0%)  Iter   1   10.00%  Align node       \r",
      "00:00:01      8 MB(0%)  Iter   1   20.00%  Align node\r",
      "00:00:01      9 MB(0%)  Iter   1   30.00%  Align node\r",
      "00:00:01      9 MB(0%)  Iter   1   40.00%  Align node\r",
      "00:00:01     10 MB(0%)  Iter   1   50.00%  Align node\r",
      "00:00:01     10 MB(0%)  Iter   1   60.00%  Align node\r",
      "00:00:01     11 MB(0%)  Iter   1   70.00%  Align node\r",
      "00:00:01     13 MB(0%)  Iter   1   80.00%  Align node\r",
      "00:00:01     13 MB(0%)  Iter   1   90.00%  Align node\r",
      "00:00:01     13 MB(0%)  Iter   1  100.00%  Align node\r",
      "00:00:01     14 MB(0%)  Iter   1  100.00%  Align node\r",
      "\r\n",
      "00:00:01     14 MB(0%)  Iter   1    9.09%  Root alignment\r",
      "00:00:01     14 MB(0%)  Iter   1   18.18%  Root alignment\r",
      "00:00:01     14 MB(0%)  Iter   1   27.27%  Root alignment\r",
      "00:00:01     14 MB(0%)  Iter   1   36.36%  Root alignment\r",
      "00:00:01     14 MB(0%)  Iter   1   45.45%  Root alignment\r",
      "00:00:01     14 MB(0%)  Iter   1   54.55%  Root alignment\r",
      "00:00:01     14 MB(0%)  Iter   1   63.64%  Root alignment\r",
      "00:00:01     14 MB(0%)  Iter   1   72.73%  Root alignment\r",
      "00:00:01     14 MB(0%)  Iter   1   81.82%  Root alignment\r",
      "00:00:01     14 MB(0%)  Iter   1   90.91%  Root alignment\r",
      "00:00:01     14 MB(0%)  Iter   1  100.00%  Root alignment\r",
      "00:00:01     14 MB(0%)  Iter   1  100.00%  Root alignment\r",
      "\r\n",
      "00:00:01     14 MB(0%)  Iter   2   11.11%  Refine tree   \r",
      "00:00:02     14 MB(0%)  Iter   2   22.22%  Refine tree\r",
      "00:00:02     14 MB(0%)  Iter   2   33.33%  Refine tree\r",
      "00:00:02     14 MB(0%)  Iter   2   44.44%  Refine tree\r",
      "00:00:02     14 MB(0%)  Iter   2   55.56%  Refine tree\r",
      "00:00:02     14 MB(0%)  Iter   2   66.67%  Refine tree\r",
      "00:00:02     14 MB(0%)  Iter   2   77.78%  Refine tree\r",
      "00:00:02     14 MB(0%)  Iter   2   88.89%  Refine tree\r",
      "00:00:02     14 MB(0%)  Iter   2  100.00%  Refine tree\r",
      "\r\n",
      "00:00:02     14 MB(0%)  Iter   2    9.09%  Root alignment\r",
      "00:00:02     14 MB(0%)  Iter   2   18.18%  Root alignment\r",
      "00:00:02     14 MB(0%)  Iter   2   27.27%  Root alignment\r",
      "00:00:02     14 MB(0%)  Iter   2   36.36%  Root alignment\r",
      "00:00:02     14 MB(0%)  Iter   2   45.45%  Root alignment\r",
      "00:00:02     14 MB(0%)  Iter   2   54.55%  Root alignment\r",
      "00:00:02     14 MB(0%)  Iter   2   63.64%  Root alignment\r",
      "00:00:02     14 MB(0%)  Iter   2   72.73%  Root alignment\r",
      "00:00:02     14 MB(0%)  Iter   2   81.82%  Root alignment\r",
      "00:00:02     14 MB(0%)  Iter   2   90.91%  Root alignment\r",
      "00:00:02     14 MB(0%)  Iter   2  100.00%  Root alignment\r",
      "00:00:02     14 MB(0%)  Iter   2  100.00%  Root alignment\r",
      "\r\n",
      "00:00:02     15 MB(0%)  Iter   2  100.00%  Root alignment\r",
      "\r\n",
      "00:00:02     15 MB(0%)  Iter   3   10.53%  Refine biparts\r",
      "00:00:02     15 MB(0%)  Iter   3   15.79%  Refine biparts\r",
      "00:00:03     15 MB(0%)  Iter   3   21.05%  Refine biparts\r",
      "00:00:03     15 MB(0%)  Iter   3   26.32%  Refine biparts\r",
      "00:00:03     15 MB(0%)  Iter   3   31.58%  Refine biparts\r",
      "00:00:03     15 MB(0%)  Iter   3   36.84%  Refine biparts\r",
      "00:00:03     15 MB(0%)  Iter   3   42.11%  Refine biparts\r",
      "00:00:03     15 MB(0%)  Iter   3   47.37%  Refine biparts\r",
      "00:00:03     15 MB(0%)  Iter   3   52.63%  Refine biparts\r",
      "00:00:03     15 MB(0%)  Iter   3   57.89%  Refine biparts\r",
      "00:00:03     15 MB(0%)  Iter   3   63.16%  Refine biparts\r",
      "00:00:03     15 MB(0%)  Iter   3   68.42%  Refine biparts\r",
      "00:00:04     15 MB(0%)  Iter   3   73.68%  Refine biparts\r",
      "00:00:04     15 MB(0%)  Iter   3   78.95%  Refine biparts\r",
      "00:00:04     15 MB(0%)  Iter   3   84.21%  Refine biparts\r",
      "00:00:04     15 MB(0%)  Iter   3   89.47%  Refine biparts\r",
      "00:00:04     15 MB(0%)  Iter   3   94.74%  Refine biparts\r",
      "00:00:04     15 MB(0%)  Iter   3  100.00%  Refine biparts\r",
      "00:00:04     15 MB(0%)  Iter   3  105.26%  Refine biparts\r",
      "00:00:04     15 MB(0%)  Iter   3  100.00%  Refine biparts\r",
      "\r\n",
      "\n"
     ]
    }
   ],
   "source": [
    "for file in *new.fasta\n",
    "do \n",
    "out=${file%%.fasta}aln.fasta\n",
    "muscle -in $file -out $out\n",
    "done"
   ]
  },
  {
   "cell_type": "code",
   "execution_count": 47,
   "metadata": {
    "kernel": "Bash"
   },
   "outputs": [
    {
     "name": "stdout",
     "output_type": "stream",
     "text": [
      "gene1newaln.fasta gene3newaln.fasta gene5newaln.fasta gene7newaln.fasta\r\n",
      "gene2newaln.fasta gene4newaln.fasta gene6newaln.fasta\r\n",
      "\n"
     ]
    }
   ],
   "source": [
    "ls"
   ]
  },
  {
   "cell_type": "code",
   "execution_count": 49,
   "metadata": {
    "kernel": "Bash"
   },
   "outputs": [
    {
     "name": "stdout",
     "output_type": "stream",
     "text": [
      "Wrote concatenated sequences to fasta file 'concatenated.out'\r\n",
      "Wrote partitions for the concatenated file to 'partitions.txt'\r\n",
      "\n"
     ]
    }
   ],
   "source": [
    "python3 AMAS.py concat -f fasta -d dna -i *aln.fasta --part-format raxml"
   ]
  },
  {
   "cell_type": "code",
   "execution_count": null,
   "metadata": {
    "kernel": "Python3"
   },
   "outputs": [],
   "source": [
    "for file in os.listdir(\"/Users/sarahharrison/Documents/GitHub/CF-BM-WGS-data-analysis/reference_data/muscle_test/fasta_genes\"):\n",
    "    if file.endswith(\".fasta\") == True:\n",
    "        for seq_record in SeqIO.parse(file, \"fasta\"):\n",
    "            new_name = seq_record.id.split('_')[1]\n",
    "            new_name = \"AS\" + str(new_name)\n",
    "            seq_record.id = new_name\n",
    "    "
   ]
  },
  {
   "cell_type": "code",
   "execution_count": null,
   "metadata": {
    "kernel": "Python3"
   },
   "outputs": [],
   "source": [
    "#multi_meta_aln = AMAS.MetaAlignment(in_files=[\"gene1.phy\", \"gene2.phy\", \"gene3.phy\",\"gene4.phy\",\"gene5.phy\",\"gene6.phy\",\"gene7.phy\"], data_type=\"dna\", in_format=\"phylip\", cores=2)\n"
   ]
  },
  {
   "cell_type": "code",
   "execution_count": null,
   "metadata": {
    "kernel": "R"
   },
   "outputs": [],
   "source": [
    "raxmlHPC -f a -x 43734 -p 89493 -# 100 -s test_aln.fasta -q partitions.txt -n TEST_DATA -m GTRGAMMA "
   ]
  },
  {
   "cell_type": "code",
   "execution_count": null,
   "metadata": {
    "kernel": "Bash"
   },
   "outputs": [],
   "source": []
  },
  {
   "cell_type": "code",
   "execution_count": null,
   "metadata": {
    "kernel": "Bash"
   },
   "outputs": [],
   "source": []
  }
 ],
 "metadata": {
  "kernelspec": {
   "display_name": "SoS",
   "language": "sos",
   "name": "sos"
  },
  "language_info": {
   "codemirror_mode": "sos",
   "file_extension": ".sos",
   "mimetype": "text/x-sos",
   "name": "sos",
   "nbconvert_exporter": "sos_notebook.converter.SoS_Exporter",
   "pygments_lexer": "sos"
  },
  "sos": {
   "kernels": [
    [
     "Bash",
     "calysto_bash",
     "Bash",
     "#E6EEFF",
     ""
    ],
    [
     "Python3",
     "python3",
     "Python3",
     "#FFD91A",
     {
      "name": "ipython",
      "version": 3
     }
    ],
    [
     "R",
     "ir",
     "R",
     "#DCDCDA",
     ""
    ]
   ],
   "panel": {
    "displayed": true,
    "height": 0
   },
   "version": "0.21.7"
  }
 },
 "nbformat": 4,
 "nbformat_minor": 2
}
