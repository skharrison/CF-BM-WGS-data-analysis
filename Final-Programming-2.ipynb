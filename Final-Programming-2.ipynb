{
 "cells": [
  {
   "cell_type": "markdown",
   "metadata": {},
   "source": [
    "Talk about project here"
   ]
  },
  {
   "cell_type": "markdown",
   "metadata": {},
   "source": [
    "# calling variants \n",
    "- bash script for that\n",
    "- add in trimmomatic commands/script \n",
    "- Figure out how to run bash scripts from jupyter \n",
    "- figure out how to get into cluster via bash commands from jupyter and do stuff???"
   ]
  },
  {
   "cell_type": "code",
   "execution_count": null,
   "metadata": {},
   "outputs": [],
   "source": []
  },
  {
   "cell_type": "markdown",
   "metadata": {},
   "source": [
    "# code for sequencing error cutoff \n",
    "- python code"
   ]
  },
  {
   "cell_type": "code",
   "execution_count": null,
   "metadata": {},
   "outputs": [],
   "source": []
  },
  {
   "cell_type": "markdown",
   "metadata": {},
   "source": [
    "# code for allele frequencies and variant table generation \n",
    "- any other code done to generate tables with filtered variants \n",
    "- python code "
   ]
  },
  {
   "cell_type": "code",
   "execution_count": null,
   "metadata": {},
   "outputs": [],
   "source": []
  },
  {
   "cell_type": "markdown",
   "metadata": {},
   "source": [
    "# code to generate alignment of SNP's and generate phylogeny \n",
    "- What positions to keep/ why? what kind of alignment (genes/whole genome etc..)\n",
    "- bash script for running raXml "
   ]
  },
  {
   "cell_type": "code",
   "execution_count": null,
   "metadata": {},
   "outputs": [],
   "source": []
  },
  {
   "cell_type": "markdown",
   "metadata": {},
   "source": [
    "# other ideas??\n",
    "- PhaME and generating whole species tree of BCC or Burkholderia multivorans \n",
    "- Circos in R (how to get R to run in jupyter)\n",
    "- Quality control graphs for bams and VCF's\n",
    "- making a class definition for a VCF file \n",
    "- Once have a smaller subset of variants could use Biopython to do BLAST searches/converting file types \n",
    "- Maybe small version of visualization project\n",
    "- Mess around with any other cool software that could be cool? \n",
    "- if wanted to get super wild could write script to assemble using spades? "
   ]
  },
  {
   "cell_type": "code",
   "execution_count": null,
   "metadata": {},
   "outputs": [],
   "source": []
  },
  {
   "cell_type": "markdown",
   "metadata": {},
   "source": []
  }
 ],
 "metadata": {
  "kernelspec": {
   "display_name": "Python 3.7.4 64-bit ('base': conda)",
   "language": "python",
   "name": "python37464bitbaseconda395cfe6feb99478e86ad327e676ac7c1"
  },
  "language_info": {
   "codemirror_mode": {
    "name": "ipython",
    "version": 3
   },
   "file_extension": ".py",
   "mimetype": "text/x-python",
   "name": "python",
   "nbconvert_exporter": "python",
   "pygments_lexer": "ipython3",
   "version": "3.7.4"
  }
 },
 "nbformat": 4,
 "nbformat_minor": 2
}
